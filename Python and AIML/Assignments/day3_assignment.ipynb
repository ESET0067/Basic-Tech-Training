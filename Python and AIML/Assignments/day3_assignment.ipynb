{
 "cells": [
  {
   "cell_type": "markdown",
   "id": "578fb9d3",
   "metadata": {},
   "source": [
    "# Assignment Day 3"
   ]
  },
  {
   "cell_type": "code",
   "execution_count": 9,
   "id": "fc0aad2b",
   "metadata": {},
   "outputs": [],
   "source": [
    "import numpy as np\n",
    "import pandas as pd\n",
    "array = np.array(([1, 2, 3], [4, 5, 6], [7, 8, 9]))\n",
    "new_array = 2 * array\n"
   ]
  },
  {
   "cell_type": "code",
   "execution_count": 10,
   "id": "3e695c30",
   "metadata": {},
   "outputs": [
    {
     "name": "stdout",
     "output_type": "stream",
     "text": [
      "[[1 2 3]\n",
      " [4 5 6]\n",
      " [7 8 9]]\n"
     ]
    }
   ],
   "source": [
    "\n",
    "print(array)"
   ]
  },
  {
   "cell_type": "code",
   "execution_count": 11,
   "id": "99ce83e7",
   "metadata": {},
   "outputs": [
    {
     "name": "stdout",
     "output_type": "stream",
     "text": [
      "[[ 2  4  6]\n",
      " [ 8 10 12]\n",
      " [14 16 18]]\n"
     ]
    }
   ],
   "source": [
    "print(new_array)"
   ]
  },
  {
   "cell_type": "markdown",
   "id": "b095c7d8",
   "metadata": {},
   "source": [
    "# creating the dictionary"
   ]
  },
  {
   "cell_type": "code",
   "execution_count": null,
   "id": "b528bf52",
   "metadata": {},
   "outputs": [],
   "source": [
    "dictionary = {'A': 1, 'B': 2, 'C': 5}"
   ]
  },
  {
   "cell_type": "code",
   "execution_count": 19,
   "id": "aafc2d7e",
   "metadata": {},
   "outputs": [
    {
     "name": "stdout",
     "output_type": "stream",
     "text": [
      "  product_name  product_price  stock_quantiy\n",
      "0       laptop          60000             30\n",
      "1       mobile          20000             50\n",
      "2       tablet          15000             70\n"
     ]
    }
   ],
   "source": [
    "dictionary = {\n",
    "\t\"product_name\": [\"laptop\", \"mobile\", \"tablet\"],\n",
    "\t\"product_price\": [60000, 20000, 15000],\n",
    "\t\"stock_quantiy\": [30, 50, 70]\n",
    "}\n",
    "df = pd.DataFrame(dictionary)\n",
    "print(df)"
   ]
  },
  {
   "cell_type": "code",
   "execution_count": 22,
   "id": "0e6d5eb3",
   "metadata": {},
   "outputs": [
    {
     "name": "stdout",
     "output_type": "stream",
     "text": [
      "  product_name  product_price  stock_quantiy\n",
      "2       tablet          15000             70\n"
     ]
    }
   ],
   "source": [
    "# Check if 'stock quantiy' in dictionary is greater than 50\n",
    "datafiltered = df[df['stock_quantiy'] > 50]\n",
    "print(datafiltered)"
   ]
  },
  {
   "cell_type": "markdown",
   "id": "f5c54a91",
   "metadata": {},
   "source": []
  }
 ],
 "metadata": {
  "kernelspec": {
   "display_name": "Python 3",
   "language": "python",
   "name": "python3"
  },
  "language_info": {
   "codemirror_mode": {
    "name": "ipython",
    "version": 3
   },
   "file_extension": ".py",
   "mimetype": "text/x-python",
   "name": "python",
   "nbconvert_exporter": "python",
   "pygments_lexer": "ipython3",
   "version": "3.11.9"
  }
 },
 "nbformat": 4,
 "nbformat_minor": 5
}
